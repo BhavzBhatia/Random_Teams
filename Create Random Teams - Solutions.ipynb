{
 "cells": [
  {
   "cell_type": "markdown",
   "id": "be1b63cf",
   "metadata": {},
   "source": [
    "\n",
    "### __________________Tasks_________________\n",
    "\n",
    "'''\n",
    "Write a Python program to take team size from the user and take their names.\n",
    "Your job is to split in approximate 2 halves only such that members of TeamA shall not reflect in TeamB\n",
    "\n",
    "Sample Shown in Folder\n",
    "\n",
    "'''\n",
    "\n",
    "\n"
   ]
  },
  {
   "cell_type": "code",
   "execution_count": 4,
   "id": "d68ec37f",
   "metadata": {},
   "outputs": [
    {
     "name": "stdout",
     "output_type": "stream",
     "text": [
      "How many members are there in the team - 10\n",
      "\n",
      "\n",
      "\n",
      "Enter the team member name : A\n",
      "Enter the team member name : B\n",
      "Enter the team member name : C\n",
      "Enter the team member name : D\n",
      "Enter the team member name : E\n",
      "Enter the team member name : F\n",
      "Enter the team member name : G\n",
      "Enter the team member name : H\n",
      "Enter the team member name : I\n",
      "Enter the team member name : J\n",
      "['A', 'B', 'C', 'D', 'E', 'F', 'G', 'H', 'I', 'J']\n"
     ]
    }
   ],
   "source": [
    "n = int(input(\"How many members are there in the team - \"))\n",
    "print(\"\\n\\n\")\n",
    "\n",
    "m = []\n",
    "\n",
    "for i in range( 1 , n+1 ) :\n",
    "    M = input(\"Enter the team member name : \")\n",
    "    m.append(M)\n",
    "    \n",
    "print(m)"
   ]
  },
  {
   "cell_type": "code",
   "execution_count": 31,
   "id": "7ea2bec2",
   "metadata": {},
   "outputs": [
    {
     "name": "stdout",
     "output_type": "stream",
     "text": [
      "Team 1 is {'E', 'C', 'F', 'G', 'J'}\n",
      " Team 2 is {'H', 'D', 'I', 'B', 'A'}\n"
     ]
    }
   ],
   "source": [
    "import random\n",
    "\n",
    "t1 = set()\n",
    "\n",
    "\n",
    "for i in range(0, int(len(m) +1 - len(m)/2)) :\n",
    "    t1.add(random.choice(m))\n",
    "    \n",
    "t2 = set(m) - set(t1)   \n",
    "\n",
    "print(f\"Team 1 is {t1}\\n Team 2 is {t2}\")"
   ]
  },
  {
   "cell_type": "code",
   "execution_count": null,
   "id": "d4c862c1",
   "metadata": {},
   "outputs": [],
   "source": []
  }
 ],
 "metadata": {
  "kernelspec": {
   "display_name": "Python 3 (ipykernel)",
   "language": "python",
   "name": "python3"
  },
  "language_info": {
   "codemirror_mode": {
    "name": "ipython",
    "version": 3
   },
   "file_extension": ".py",
   "mimetype": "text/x-python",
   "name": "python",
   "nbconvert_exporter": "python",
   "pygments_lexer": "ipython3",
   "version": "3.9.13"
  }
 },
 "nbformat": 4,
 "nbformat_minor": 5
}
